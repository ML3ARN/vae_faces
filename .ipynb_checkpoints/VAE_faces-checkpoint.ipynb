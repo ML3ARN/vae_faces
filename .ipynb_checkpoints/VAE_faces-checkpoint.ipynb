{
 "cells": [
  {
   "cell_type": "code",
   "execution_count": 1,
   "id": "trained-algeria",
   "metadata": {
    "scrolled": true
   },
   "outputs": [],
   "source": [
    "import numpy as np\n",
    "import matplotlib.pyplot as plt\n",
    "import tensorflow as tf\n",
    "from tensorflow.keras import Model\n",
    "from tensorflow.keras.callbacks import ModelCheckpoint, EarlyStopping\n",
    "import tensorflow_datasets as tfds\n",
    "from blocks import Encoder, Decoder"
   ]
  },
  {
   "cell_type": "markdown",
   "id": "micro-cocktail",
   "metadata": {},
   "source": [
    "<b>Load and Preprocess the dataset</b>"
   ]
  },
  {
   "cell_type": "code",
   "execution_count": null,
   "id": "exclusive-baker",
   "metadata": {
    "scrolled": true
   },
   "outputs": [],
   "source": [
    "(ds_train, ds_test_), ds_info = tfds.load('celeb_a', \n",
    "                              split=['train', 'test'], \n",
    "                              shuffle_files=True,\n",
    "                              with_info=True,\n",
    "                             download=False, data_dir='/data/')"
   ]
  },
  {
   "cell_type": "code",
   "execution_count": null,
   "id": "moved-speed",
   "metadata": {
    "scrolled": true
   },
   "outputs": [],
   "source": [
    "batch_size = 128\n",
    "\n",
    "def preprocess(sample):\n",
    "    image = sample['image']\n",
    "    image = tf.image.resize(image, [112,112])\n",
    "    image = tf.cast(image, tf.float32)/255.\n",
    "    return image, image\n",
    "\n",
    "ds_train = ds_train.map(preprocess)\n",
    "ds_train = ds_train.shuffle(batch_size*4)\n",
    "ds_train = ds_train.batch(batch_size).prefetch(batch_size)\n",
    "\n",
    "ds_test = ds_test_.map(preprocess).batch(batch_size).prefetch(batch_size)\n",
    "\n",
    "train_num = ds_info.splits['train'].num_examples\n",
    "test_num = ds_info.splits['test'].num_examples"
   ]
  },
  {
   "cell_type": "markdown",
   "id": "outdoor-masters",
   "metadata": {},
   "source": [
    "<b>Build the VAE</b>"
   ]
  },
  {
   "cell_type": "code",
   "execution_count": null,
   "id": "changing-forest",
   "metadata": {
    "scrolled": true
   },
   "outputs": [],
   "source": [
    "class VAE(Model):\n",
    "    def __init__(self, z_dim, name='VAE'):\n",
    "        super(VAE, self).__init__(name=name)\n",
    "        self.encoder = Encoder(z_dim)\n",
    "        self.decoder = Decoder(z_dim)\n",
    "        self.mean = None\n",
    "        self.logvar = None\n",
    "        \n",
    "    def call(self, x):\n",
    "        z, self.mean, self.logvar = self.encoder(x)\n",
    "        out = self.decoder(z)\n",
    "        return out"
   ]
  },
  {
   "cell_type": "code",
   "execution_count": null,
   "id": "8081fced",
   "metadata": {
    "scrolled": true
   },
   "outputs": [],
   "source": [
    "# define the losses\n",
    "\n",
    "def vae_kl_loss(y_true, y_pred):\n",
    "    kl_loss =  - 0.5 * tf.reduce_mean(1 + vae.logvar - tf.square(vae.mean) - tf.exp(vae.logvar))\n",
    "    return kl_loss    \n",
    "\n",
    "def vae_rc_loss(y_true, y_pred):\n",
    "    rc_loss = tf.keras.losses.MSE(y_true, y_pred)\n",
    "    return rc_loss\n",
    "\n",
    "def vae_loss(y_true, y_pred):\n",
    "    kl_loss = vae_kl_loss(y_true, y_pred)\n",
    "    rc_loss = vae_rc_loss(y_true, y_pred)\n",
    "    kl_weight_const = 0.01\n",
    "    return kl_weight_const*kl_loss + rc_loss"
   ]
  },
  {
   "cell_type": "markdown",
   "id": "e52cc1c5",
   "metadata": {},
   "source": [
    "<b>Instantiate and train the model</b>"
   ]
  },
  {
   "cell_type": "code",
   "execution_count": null,
   "id": "993d2a8f",
   "metadata": {
    "scrolled": true
   },
   "outputs": [],
   "source": [
    "vae = VAE(z_dim=200)"
   ]
  },
  {
   "cell_type": "code",
   "execution_count": null,
   "id": "c42a853b",
   "metadata": {
    "scrolled": true
   },
   "outputs": [],
   "source": [
    "model_path = './models/celeb_a_vae.h5'\n",
    "\n",
    "checkpoint = ModelCheckpoint(model_path, monitor=\"vae_rc_loss\", verbose=1, save_best_only=True,\n",
    "                             mode=\"auto\", save_weights_only=True)\n",
    "\n",
    "early = EarlyStopping(monitor=\"vae_rc_loss\", mode=\"auto\", patience=4)\n",
    "\n",
    "callbacks_list = [checkpoint, early]\n",
    "\n",
    "initial_lr = 1e-3\n",
    "\n",
    "steps_per_epoch = int(np.round(train_num/batch_size))\n",
    "\n",
    "lr_schedule = tf.keras.optimizers.schedules.ExponentialDecay(\n",
    "                initial_lr, decay_steps=steps_per_epoch, decay_rate=0.96, staircase=True)"
   ]
  },
  {
   "cell_type": "code",
   "execution_count": null,
   "id": "a03d19f6",
   "metadata": {
    "scrolled": true
   },
   "outputs": [],
   "source": [
    "vae.compile(loss=[vae_loss], \n",
    "            optimizer=tf.keras.optimizers.RMSprop(learning_rate=3e-3),\n",
    "            metrics=[vae_kl_loss, vae_rc_loss])"
   ]
  },
  {
   "cell_type": "code",
   "execution_count": null,
   "id": "1e2d9cd0",
   "metadata": {
    "scrolled": false
   },
   "outputs": [],
   "source": [
    "history = vae.fit(ds_train, validation_data=ds_test, epochs=2, callbacks = callbacks_list)"
   ]
  },
  {
   "cell_type": "code",
   "execution_count": null,
   "id": "87b7bbf7",
   "metadata": {
    "scrolled": true
   },
   "outputs": [],
   "source": []
  }
 ],
 "metadata": {
  "kernelspec": {
   "display_name": "Python 3",
   "language": "python",
   "name": "python3"
  },
  "language_info": {
   "codemirror_mode": {
    "name": "ipython",
    "version": 3
   },
   "file_extension": ".py",
   "mimetype": "text/x-python",
   "name": "python",
   "nbconvert_exporter": "python",
   "pygments_lexer": "ipython3",
   "version": "3.6.9"
  }
 },
 "nbformat": 4,
 "nbformat_minor": 5
}
